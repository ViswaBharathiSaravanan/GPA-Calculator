{
 "cells": [
  {
   "cell_type": "code",
   "execution_count": 1,
   "id": "a91dd5fb",
   "metadata": {},
   "outputs": [
    {
     "name": "stdout",
     "output_type": "stream",
     "text": [
      "Enter the Name of the Student:Karthick\n",
      "Number of Subjects:6\n",
      "Marks Obtained in Subjects:92\n",
      "Karthick obtained O grade\n",
      "__________________________________________________\n",
      "Marks Obtained in Subjects:89\n",
      "Karthick obtained A grade\n",
      "__________________________________________________\n",
      "Marks Obtained in Subjects:96\n",
      "Karthick obtained O grade\n",
      "__________________________________________________\n",
      "Marks Obtained in Subjects:99\n",
      "Karthick obtained O grade\n",
      "__________________________________________________\n",
      "Marks Obtained in Subjects:87\n",
      "Karthick obtained A grade\n",
      "__________________________________________________\n",
      "Marks Obtained in Subjects:95\n",
      "Karthick obtained O grade\n",
      "__________________________________________________\n",
      "[92, 89, 96, 99, 87, 95]\n",
      "\n",
      "93.0 is the percentage obtained by Karthick\n",
      "9.3 is the Grade Point Average of Karthick\n",
      "__________________________________________________\n",
      "╒══════════╤══════════════╤═══════╕\n",
      "│ NAME     │   PERCENTAGE │   GPA │\n",
      "╞══════════╪══════════════╪═══════╡\n",
      "│ Karthick │           93 │   9.3 │\n",
      "╘══════════╧══════════════╧═══════╛\n",
      "__________________________________________________\n"
     ]
    }
   ],
   "source": [
    "name=str(input(\"Enter the Name of the Student:\"))\n",
    "n=int(input(\"Number of Subjects:\"))\n",
    "l=[]\n",
    "for i in range(n):\n",
    "    a=int(input(\"Marks Obtained in Subjects:\"))\n",
    "    l.append(a)\n",
    "    if(a>90):\n",
    "        print(name,\"obtained O grade\")\n",
    "        print(\"__________________________________________________\")\n",
    "    elif(a>80 and a<=90):\n",
    "        print(name,\"obtained A grade\")\n",
    "        print(\"__________________________________________________\")\n",
    "    elif(a>70 and a<=80):\n",
    "        print(name,\"obtained B grade\")\n",
    "        print(\"__________________________________________________\")\n",
    "    elif(a>60 and a<=70):\n",
    "        print(name,\"obtained C grade\")\n",
    "        print(\"__________________________________________________\")\n",
    "    elif(a>50 and a<=60):\n",
    "        print(name,\"obtained D grade\")\n",
    "        print(\"__________________________________________________\")\n",
    "    else:\n",
    "        print(name,\"failed the examination\")\n",
    "        print(\"__________________________________________________\")\n",
    "print(l)\n",
    "n=[int(i) for i in input().split()]\n",
    "\n",
    "import numpy as np\n",
    "Marks=np.array(l)\n",
    "Total_Mark=np.mean(Marks)\n",
    "print(Total_Mark,\"is the percentage obtained by\",name)\n",
    "\n",
    "GPA=Total_Mark/10\n",
    "print(GPA,\"is the Grade Point Average of\",name)\n",
    "print(\"__________________________________________________\")\n",
    "\n",
    "from tabulate import tabulate\n",
    "A=[['NAME','PERCENTAGE','GPA'],[name,Total_Mark,GPA]]\n",
    "print(tabulate(A,headers='firstrow',tablefmt='fancy_grid'))\n",
    "print(\"__________________________________________________\")"
   ]
  },
  {
   "cell_type": "code",
   "execution_count": null,
   "id": "301cac8c",
   "metadata": {},
   "outputs": [],
   "source": []
  }
 ],
 "metadata": {
  "kernelspec": {
   "display_name": "Python 3 (ipykernel)",
   "language": "python",
   "name": "python3"
  },
  "language_info": {
   "codemirror_mode": {
    "name": "ipython",
    "version": 3
   },
   "file_extension": ".py",
   "mimetype": "text/x-python",
   "name": "python",
   "nbconvert_exporter": "python",
   "pygments_lexer": "ipython3",
   "version": "3.9.7"
  }
 },
 "nbformat": 4,
 "nbformat_minor": 5
}
